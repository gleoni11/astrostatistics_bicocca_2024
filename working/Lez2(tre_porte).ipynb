{
 "cells": [
  {
   "cell_type": "code",
   "execution_count": 34,
   "id": "8652177d",
   "metadata": {},
   "outputs": [
    {
     "name": "stdout",
     "output_type": "stream",
     "text": [
      "numero vittore cons 1691 numero vittore swi 3309 numero vittore new 2515\n",
      "probabilità che vinca il conservatore: 0.3382\n",
      "probabilità che vinca il switcher: 0.6618\n",
      "probabilità che vinca il newcomer: 0.503\n"
     ]
    }
   ],
   "source": [
    "import numpy as np\n",
    "import random\n",
    "import matplotlib.pyplot as plt\n",
    "\n",
    "def scegli_entrata(array):\n",
    "    indice_scelto = np.random.choice(len(array))\n",
    "    entrata_scelta = array[indice_scelto]\n",
    "    return indice_scelto, entrata_scelta\n",
    "\n",
    "#9 è la macchina, i 3 indicano le capre\n",
    "doors=[3,3,9]           \n",
    "cons_win=[]  \n",
    "swi_win=[]\n",
    "new_win=[]\n",
    "\n",
    "N=5000\n",
    "#simulo N partite\n",
    "for i in range(N):\n",
    "    #scelta del conservatore\n",
    "    indice, choice = scegli_entrata(doors) \n",
    "    if choice==9:\n",
    "        cons_win=np.append(cons_win, choice)\n",
    "    #print(\"indice conservatore\" ,indice, \"e valore conserv\", choice)\n",
    "    \n",
    "    #scelta del presentatore \n",
    "    indice_presen, choice_presen= scegli_entrata(doors) \n",
    "    \n",
    "    #finchè presen sceglie porta del conserv oppure quella con la macchina continuo a generare la scelta\n",
    "    while indice_presen==indice or choice_presen==9:    \n",
    "        indice_presen, choice_presen= scegli_entrata(doors)\n",
    "    #print (\"indice presen\" ,indice_presen, \"e valore presen\",choice_presen )        \n",
    "\n",
    "    indice_swi, choice_swi=scegli_entrata(doors)\n",
    "    #switcher deve scegliere l'ultima porta rimasta\n",
    "    while indice_swi==indice_presen or indice_swi==indice:\n",
    "        indice_swi, choice_swi=scegli_entrata(doors)\n",
    "       \n",
    "    if choice_swi==9:\n",
    "        swi_win=np.append(swi_win, choice_swi)\n",
    "    #print (\"indice switcher\" ,indice_swi, \"e valore switcher\", choice_swi) \n",
    "    \n",
    "    indice_new, choice_new=scegli_entrata(doors)\n",
    "    while indice_new==indice_presen:\n",
    "        indice_new, choice_new=scegli_entrata(doors)\n",
    "    \n",
    "    if choice_new==9:\n",
    "        new_win=np.append(new_win, choice_new)\n",
    "    #print (\"indice new\" ,indice_new, \"e valore new\", choice_new)        \n",
    "\n",
    "print(\"numero vittore cons\", len(cons_win),\"numero vittore swi\", len(swi_win),\"numero vittore new\", len(new_win) )\n",
    "print(\"probabilità che vinca il conservatore:\", len(cons_win)/N)\n",
    "print(\"probabilità che vinca il switcher:\", len(swi_win)/N)\n",
    "print(\"probabilità che vinca il newcomer:\", len(new_win)/N)"
   ]
  },
  {
   "cell_type": "code",
   "execution_count": 2,
   "id": "6ef2690b",
   "metadata": {},
   "outputs": [
    {
     "name": "stdout",
     "output_type": "stream",
     "text": [
      "probabilità che vinca il conservatore: 0.0084\n",
      "probabilità che vinca il switcher: 0.9916\n"
     ]
    }
   ],
   "source": [
    "#caso 100 porte\n",
    "\n",
    "doors=np.zeros(99)\n",
    "doors=np.append(doors, 1)\n",
    "\n",
    "cons_win=[]\n",
    "swi_win=[]\n",
    "new_win=[]\n",
    "\n",
    "for i in range(5000):\n",
    "    #scelta conservatore\n",
    "    indice, choice= scegli_entrata(doors) \n",
    "    if choice==1:\n",
    "            cons_win=np.append(cons_win, choice)\n",
    "    doors[indice]=2    \n",
    "    \n",
    "    #porte scelte dal presentatore le elimino\n",
    "    while len(doors)>2:\n",
    "        indice_presen, choice_presen= scegli_entrata(doors)\n",
    "        while choice_presen==2 or choice_presen==1:  \n",
    "            indice_presen, choice_presen= scegli_entrata(doors)\n",
    "        doors=np.delete(doors, indice_presen)\n",
    "    #print(doors)\n",
    "    indice_swi, choice_swi=scegli_entrata(doors)\n",
    "    while choice_swi==2:\n",
    "        indice_swi, choice_swi=scegli_entrata(doors)\n",
    "    if choice_swi==1:\n",
    "        swi_win=np.append(swi_win, choice_swi)\n",
    "    \n",
    "    doors=np.zeros(99)\n",
    "    doors=np.append(doors, 1)\n",
    "    \n",
    "print(\"probabilità che vinca il conservatore:\", len(cons_win)/5000)\n",
    "print(\"probabilità che vinca il switcher:\", len(swi_win)/5000)"
   ]
  },
  {
   "cell_type": "code",
   "execution_count": 42,
   "id": "5fbabb5e",
   "metadata": {},
   "outputs": [],
   "source": [
    "#N porte e il conduttore ne sceglie M<=N-2 \n",
    "\n",
    "#num di porte\n",
    "N=50\n",
    "#num di porte che conservatore apre\n",
    "M=np.arange(2, 49, 2) \n",
    "\n",
    "doors=np.zeros(N-1)\n",
    "doors=np.append(doors, 1)\n",
    "\n",
    "cons_win=[]\n",
    "swi_win=[]\n",
    "new_win=[]\n",
    "prob_swi=[]\n",
    "\n",
    "for mm in (M):\n",
    "    cons_win=[]\n",
    "    swi_win=[]\n",
    "    for i in range(1000):\n",
    "    \n",
    "        #scelta conservatore\n",
    "        indice, choice= scegli_entrata(doors) \n",
    "        if choice==1:\n",
    "                cons_win=np.append(cons_win, choice)\n",
    "        doors[indice]=2    \n",
    "\n",
    "        #porte scelte dal presentatore le elimino\n",
    "        while len(doors)>(N-mm):\n",
    "            indice_presen, choice_presen= scegli_entrata(doors)\n",
    "            while choice_presen==2 or choice_presen==1:  \n",
    "                indice_presen, choice_presen= scegli_entrata(doors)\n",
    "            doors=np.delete(doors, indice_presen)\n",
    "        #print(doors)\n",
    "        indice_swi, choice_swi=scegli_entrata(doors)\n",
    "        while choice_swi==2:\n",
    "            indice_swi, choice_swi=scegli_entrata(doors)\n",
    "        if choice_swi==1:\n",
    "            swi_win=np.append(swi_win, choice_swi)\n",
    "        doors=np.zeros(N-1)\n",
    "        doors=np.append(doors, 1)\n",
    "    prob_swi=np.append(prob_swi, len(swi_win)/1000)"
   ]
  },
  {
   "cell_type": "code",
   "execution_count": 44,
   "id": "574e3e28",
   "metadata": {},
   "outputs": [
    {
     "data": {
      "image/png": "[encoded data removed]",
      "text/plain": [
       "<Figure size 640x480 with 1 Axes>"
      ]
     },
     "metadata": {},
     "output_type": "display_data"
    }
   ],
   "source": [
    "m=np.linspace(1, 48, 100)\n",
    "plt.plot(m,(N-1)/(N*(N-1-m)), label=\"prob teorica\")\n",
    "plt.scatter(M, prob_swi, label=\"prob sperimentale\")\n",
    "plt.legend()\n",
    "plt.xlabel(\"num porte aperte (M)\")\n",
    "plt.ylabel(\"probabilità switcher\")\n",
    "plt.show()"
   ]
  },
  {
   "cell_type": "code",
   "execution_count": null,
   "id": "6cc87d1b",
   "metadata": {},
   "outputs": [],
   "source": []
  }
 ],
 "metadata": {
  "kernelspec": {
   "display_name": "Python 3 (ipykernel)",
   "language": "python",
   "name": "python3"
  },
  "language_info": {
   "codemirror_mode": {
    "name": "ipython",
    "version": 3
   },
   "file_extension": ".py",
   "mimetype": "text/x-python",
   "name": "python",
   "nbconvert_exporter": "python",
   "pygments_lexer": "ipython3",
   "version": "3.11.5"
  }
 },
 "nbformat": 4,
 "nbformat_minor": 5
}
